{
  "nbformat": 4,
  "nbformat_minor": 0,
  "metadata": {
    "colab": {
      "name": "Untitled1.ipynb",
      "provenance": [],
      "collapsed_sections": []
    },
    "kernelspec": {
      "name": "python3",
      "display_name": "Python 3"
    }
  },
  "cells": [
    {
      "cell_type": "code",
      "metadata": {
        "id": "QUOEFuoxFx6D",
        "colab_type": "code",
        "colab": {}
      },
      "source": [
        "from IPython.display import Latex\n",
        "import math\n",
        "import numpy as np\n",
        "import sympy\n",
        "from fractions import Fraction\n",
        "\n",
        "cheems_1 = [('C',1),('H',1),([('C',1),('H',2)],7),('C',1),('O',2),('C',1),('H',3)]\n",
        "chem_2 = [('Al', 2), ([('S', 1), ('O', 4)], 3)]\n",
        "\n",
        "def chemical_formula(chem, pre_str_chem= ''):\n",
        "  str_chem = pre_str_chem\n",
        "  for i, sub_chem in enumerate(chem):\n",
        "    if type(sub_chem[0]) is list:\n",
        "      str_chem = str_chem + '('\n",
        "      str_chem = chemical_formula(sub_chem[0], pre_str_chem=str_chem)\n",
        "      str_chem = str_chem + ')_' + str(sub_chem[1])\n",
        "    else:\n",
        "      if sub_chem[1] > 1:\n",
        "        str_chem = str_chem + r'\\text{' + str(sub_chem[0]) + r'}_' + str(sub_chem[1])\n",
        "      else:\n",
        "                str_chem = str_chem + r'\\text{' + str(sub_chem[0]) + r'}'\n",
        "  return str_chem \n",
        "\n"
      ],
      "execution_count": 62,
      "outputs": []
    },
    {
      "cell_type": "code",
      "metadata": {
        "id": "6c9b6NsNIBGK",
        "colab_type": "code",
        "colab": {}
      },
      "source": [
        "def chemical_element(chem):\n",
        "  chemical_list = []  \n",
        "  for sub_chem in chem:\n",
        "    if type(sub_chem[0]) is list:\n",
        "      chemical_list +=chemical_element(sub_chem[0])\n",
        "    else:\n",
        "      if sub_chem[0] not in chemical_list:\n",
        "        chemical_list.append(sub_chem[0])\n",
        "  return chemical_list\n"
      ],
      "execution_count": 63,
      "outputs": []
    },
    {
      "cell_type": "code",
      "metadata": {
        "id": "Miezxl6SPB0U",
        "colab_type": "code",
        "colab": {}
      },
      "source": [
        "def count_element(result, chem, integer, element_list):\n",
        "  for sub_chem in chem:\n",
        "      if type(sub_chem[0]) is list:\n",
        "        count_element(result, sub_chem[0], sub_chem[1],element_list)\n",
        "        \n",
        "      else:\n",
        "          for i, element in enumerate(element_list):\n",
        "              if sub_chem[0] == element:\n",
        "                  result[i] = result[i] + sub_chem[1]*integer;\n",
        "  return result\n"
      ],
      "execution_count": 64,
      "outputs": []
    },
    {
      "cell_type": "code",
      "metadata": {
        "id": "N3IAv8k13Ofd",
        "colab_type": "code",
        "colab": {}
      },
      "source": [
        "def print_fraction(weight):\n",
        "  result = r''\n",
        "  if weight[1] == 1:\n",
        "    result =  str(weight[0])\n",
        "  else:\n",
        "    result =  r'\\frac{' + str(weight[0]) + r'}{' + str(weight[1]) + r'}'\n",
        "  return result"
      ],
      "execution_count": 65,
      "outputs": []
    },
    {
      "cell_type": "code",
      "metadata": {
        "id": "kPPBnkBD-tMR",
        "colab_type": "code",
        "colab": {}
      },
      "source": [
        "def result_string(lhs,rhs,weight_formula):\n",
        "  result_string = r''\n",
        "  #result_string = ''\n",
        "  temp = 0\n",
        "  for i,chem in enumerate(lhs):\n",
        "    if i != 0:\n",
        "      result_string += r' + '\n",
        "    result_string += str(print_fraction(float_to_fraction(weight_formula[i]))) + ' ' + chemical_formula(chem)\n",
        "    temp = i\n",
        "  result_string += r' \\to '\n",
        "  for i,chem in enumerate(rhs):\n",
        "    if i != 0:\n",
        "      result_string += ' + '\n",
        "    result_string += str(print_fraction(float_to_fraction(weight_formula[i+temp+1]))) + ' ' + chemical_formula(chem)\n",
        "  return result_string"
      ],
      "execution_count": 66,
      "outputs": []
    },
    {
      "cell_type": "code",
      "metadata": {
        "id": "_XUioLK6ufMj",
        "colab_type": "code",
        "colab": {}
      },
      "source": [
        "def balance_chemical_equation(lhs, rhs):\n",
        "  \"lhs là danh sách các phân tử tham gia phản ứng, rhs là danh sách các phân tử sản phẩm\"\n",
        "  all_chem = lhs\n",
        "  element_list = []\n",
        "\n",
        "  for chem in lhs:\n",
        "    element_list += chemical_element(chem)\n",
        "  element_list = list(dict.fromkeys(element_list))\n",
        "\n",
        "  lhs_array = np.array([])\n",
        "  rhs_array = np.array([])\n",
        "  \n",
        "  for chem in lhs:\n",
        "    num_array = np.zeros(len(element_list))\n",
        "    count_element(num_array,chem,1, element_list)\n",
        "    lhs_array = np.concatenate((lhs_array,num_array))\n",
        "  \n",
        "  for chem in rhs:\n",
        "    num_array = np.zeros(len(element_list))\n",
        "    count_element(num_array,chem,1, element_list)\n",
        "    rhs_array = np.concatenate((rhs_array,num_array))\n",
        "  \n",
        "  lhs_array = lhs_array.reshape(len(lhs),len(element_list))\n",
        "  lhs_array = lhs_array.T\n",
        "  rhs_array = rhs_array.reshape(len(rhs),len(element_list))\n",
        "  rhs_array = rhs_array.T\n",
        "  rhs_array *= -1\n",
        "  #rhs_array = np.expand_dims(rhs_array,axis=0)\n",
        "  \n",
        "  Array = np.concatenate((lhs_array, rhs_array),axis=1)\n",
        "  b = np.zeros(len(element_list))\n",
        "  b = b.reshape(len(element_list),1)\n",
        "  Array = np.concatenate((Array,b),axis=1)\n",
        "  Array = sympy.Matrix(Array)\n",
        "\n",
        "  symbol = [sympy.symbols(f\"x{i}\") for i in range (1,len(lhs)+len(rhs)+1) ]\n",
        "  weight_formula = sympy.linsolve(Array, symbol)\n",
        "  weight_formula = weight_formula.subs(symbol[len(lhs)+len(rhs)-1],1)\n",
        "  weight_formula = list(weight_formula)\n",
        "  result = result_string(lhs,rhs,weight_formula[0])\n",
        "\n",
        "  return result"
      ],
      "execution_count": 67,
      "outputs": []
    },
    {
      "cell_type": "code",
      "metadata": {
        "id": "N7gYwIH11QQn",
        "colab_type": "code",
        "colab": {}
      },
      "source": [
        "def float_to_fraction (x, error=0.000001):\n",
        "    n = int(math.floor(x))\n",
        "    x -= n\n",
        "    if x < error:\n",
        "        return (n, 1)\n",
        "    elif 1 - error < x:\n",
        "        return (n+1, 1)\n",
        "\n",
        "    # The lower fraction is 0/1\n",
        "    lower_n = 0\n",
        "    lower_d = 1\n",
        "    # The upper fraction is 1/1\n",
        "    upper_n = 1\n",
        "    upper_d = 1\n",
        "    while True:\n",
        "        # The middle fraction is (lower_n + upper_n) / (lower_d + upper_d)\n",
        "        middle_n = lower_n + upper_n\n",
        "        middle_d = lower_d + upper_d\n",
        "        # If x + error < middle\n",
        "        if middle_d * (x + error) < middle_n:\n",
        "            # middle is our new upper\n",
        "            upper_n = middle_n\n",
        "            upper_d = middle_d\n",
        "        # Else If middle < x - error\n",
        "        elif middle_n < (x - error) * middle_d:\n",
        "            # middle is our new lower\n",
        "            lower_n = middle_n\n",
        "            lower_d = middle_d\n",
        "        # Else middle is our best fraction\n",
        "        else:\n",
        "            return (n * middle_d + middle_n, middle_d)"
      ],
      "execution_count": 68,
      "outputs": []
    },
    {
      "cell_type": "code",
      "metadata": {
        "id": "1D7mdwD7K41W",
        "colab_type": "code",
        "colab": {
          "base_uri": "https://localhost:8080/",
          "height": 55
        },
        "outputId": "3d8423e5-a6c1-4ded-918e-547c22de3cae"
      },
      "source": [
        "Al_OH3 = [(\"Al\", 1), ([(\"O\", 1), (\"H\", 1)], 3)]\n",
        "H2_SO4 = [(\"H\", 2), (\"S\", 1), (\"O\", 4)]\n",
        "Al2_SO43 = [(\"Al\", 2), ([(\"S\", 1), (\"O\", 4)], 3)]\n",
        "H2O = [(\"H\", 2), (\"O\", 1)]\n",
        "H2 = [(\"H\", 2)]\n",
        "O2 = [(\"O\", 2)]\n",
        "KMnO4 = [('K',1),('Mn',1),('O',4)]\n",
        "MnO2 = [('Mn',1),('O',2)]\n",
        "K2MnO4 = [('K',2),('Mn',1),('O',4)]\n",
        "\n",
        "Al = [('Al',1)]\n",
        "Al_NO33 = [(\"Al\", 1), ([(\"N\", 1), (\"O\", 3)], 3)]\n",
        "H_NO3 = [(\"H\", 1), (\"N\", 1), (\"O\", 3)]\n",
        "NO2 = [('N',1),('O',2)]\n",
        "\n",
        "\n",
        "equation = balance_chemical_equation([Al, H_NO3],[Al_NO33, NO2, H2O])\n",
        "# sẽ được như\n",
        "#equation = r\"2\\text{Al}(\\text{O}\\text{H})_3 + 3\\text{H}_2\\text{S}\\text{O}_4 \\to \\text{Al}_2(\\text{S}\\text{O}_4)_3 + 6\\text{H}_2\\text{O}\"\n",
        "\n",
        "print(equation)\n",
        "Latex(\"$$\" + equation + \"$$\")"
      ],
      "execution_count": 69,
      "outputs": [
        {
          "output_type": "stream",
          "text": [
            "\\frac{1}{3} \\text{Al} + 2 \\text{H}\\text{N}\\text{O}_3 \\to \\frac{1}{3} \\text{Al}(\\text{N}\\text{O}_3)_3 + 1 \\text{N}\\text{O}_2 + 1 \\text{H}_2\\text{O}\n"
          ],
          "name": "stdout"
        },
        {
          "output_type": "execute_result",
          "data": {
            "text/latex": "$$\\frac{1}{3} \\text{Al} + 2 \\text{H}\\text{N}\\text{O}_3 \\to \\frac{1}{3} \\text{Al}(\\text{N}\\text{O}_3)_3 + 1 \\text{N}\\text{O}_2 + 1 \\text{H}_2\\text{O}$$",
            "text/plain": [
              "<IPython.core.display.Latex object>"
            ]
          },
          "metadata": {
            "tags": []
          },
          "execution_count": 69
        }
      ]
    }
  ]
}