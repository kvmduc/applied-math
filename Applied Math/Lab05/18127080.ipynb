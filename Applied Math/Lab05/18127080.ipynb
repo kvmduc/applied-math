{
 "cells": [
  {
   "cell_type": "markdown",
   "metadata": {},
   "source": [
    "# Project 04: Phân lớp văn bản với kĩ thuật bình phương tối tiểu\n",
    "#### Họ tên : Kiều Vũ Minh Đức\n",
    "#### MSSV : 18127080\n",
    "#### Lớp 18CLC4"
   ]
  },
  {
   "cell_type": "code",
   "execution_count": 76,
   "metadata": {},
   "outputs": [],
   "source": [
    "# DON'T CHANGE this part: import libraries\n",
    "import numpy as np\n",
    "import scipy\n",
    "import json\n",
    "from nltk.stem import PorterStemmer \n",
    "from nltk.corpus import stopwords\n",
    "from nltk.tokenize import word_tokenize \n",
    "import re\n",
    "import itertools"
   ]
  },
  {
   "cell_type": "code",
   "execution_count": 77,
   "metadata": {},
   "outputs": [
    {
     "name": "stdout",
     "output_type": "stream",
     "text": [
      "train.json valid.json 69\n"
     ]
    }
   ],
   "source": [
    "# DON'T CHANGE this part: read data path\n",
    "train_set_path, valid_set_path, random_number = input().split()"
   ]
  },
  {
   "cell_type": "code",
   "execution_count": 78,
   "metadata": {},
   "outputs": [],
   "source": [
    "# TODO:\n",
    "# 1. preprocess: converting text to lowercase, coverting number, tokenization, removing stopword, stemming\n",
    "# 2. embedding: hitogram matrix\n",
    "# 3. classifier using linear regression\n",
    "# 4. accuracy (for metric)"
   ]
  },
  {
   "cell_type": "markdown",
   "metadata": {},
   "source": [
    "#### Ví dụ cho phần báo cáo, nên báo cáo cho từng phần code để rõ ràng\n",
    "\n",
    "Báo cáo phần tiền xử lý: dùng xyz để tách từ, ...\n",
    "\n",
    "... Đối với những từ out-of-vocab (xuất hiện trong tập train nhưng không có ở tập valid), xử lý bằng cách ... "
   ]
  },
  {
   "cell_type": "markdown",
   "metadata": {},
   "source": [
    "Trước khi có thể chạy được chương trình, người dùng cần phải tải về bộ thư viện `nltk`, sau đó download gói `punkt` và `stopwords`"
   ]
  },
  {
   "cell_type": "markdown",
   "metadata": {},
   "source": [
    "### Phân tích thuật toán"
   ]
  },
  {
   "cell_type": "code",
   "execution_count": 79,
   "metadata": {},
   "outputs": [],
   "source": [
    "# Ví dụ cho phần code hàm tiền xử lý\n",
    "\n",
    "stop_words = set(stopwords.words('english'))\n",
    "def preprocess(text):\n",
    "    # converting text to lowercase\n",
    "    text = text.lower()\n",
    "    text = re.sub(\" \\d+\", \" num \", text)\n",
    "    word_tokens = word_tokenize(text)\n",
    "    filtered_sentence = [w for w in word_tokens if not w in stop_words]\n",
    "    stem_sentence = []\n",
    "    ps = PorterStemmer()\n",
    "    for w in filtered_sentence:\n",
    "        stem_sentence.append(ps.stem(w))\n",
    "    return stem_sentence"
   ]
  },
  {
   "cell_type": "markdown",
   "metadata": {},
   "source": [
    "Hàm trên sử dụng các bộ thư viện cơ bản trong `nltk` và `regex` để có thể tiền xử lý các dữ liệu trong một đoạn text\n",
    "+ Hàm `lower()` dùng để chuyển các ký tự in sang ký tự thường\n",
    "+ Hàm `re.sub()` được dùng để thay thế các ký tự có một format định sẵn về một chuỗi khác, như ở trên ta có thể chuyển các ký tự có format digit về 'num'\n",
    "+ Hàm `word_tokenize()` của bộ thư viện `nltk` dùng để tách chữ\n",
    "+ Ngoài ra `nltk` còn cung cấp một bộ từ ngữ được xem là **stopwords** theo ngôn ngữ tiếng anh, dùng để có thể filter các từ này ra khỏi câu một cách dễ dàng. Các **stopwords** là các từ không mang ý nghĩa nếu đứng riêng lẻ\n",
    "+ Cuối cùng là class `PorterStemmer()`, dùng để stem (chuẩn hóa các dạng loại từ)\n",
    "Các stopwords được sử dụng như một global variable"
   ]
  },
  {
   "cell_type": "code",
   "execution_count": 80,
   "metadata": {},
   "outputs": [],
   "source": [
    "word_set = set(['unk'])\n",
    "def word_set_create(word_vector):\n",
    "    word_set.update(word_vector)"
   ]
  },
  {
   "cell_type": "markdown",
   "metadata": {},
   "source": [
    "Việc dùng một set để làm một cơ sở để đếm các từ xuất hiện trong bộ data dùng để train tiện hơn, do set không bị lặp mỗi khi upgrade thêm phần tử mới vào. Nên em sử dụng một set để làm một data structure lưu lại toàn bộ các từ đã xuất hiện trong train data.\n",
    "Ngoài ra, cần thêm vào set một phần từ 'unk' để có thể xử lý cho các ký tự không xuất hiện trong bộ train nhưng lại xuất hiện trong bộ test"
   ]
  },
  {
   "cell_type": "code",
   "execution_count": 81,
   "metadata": {},
   "outputs": [],
   "source": [
    "def label_create(scores):\n",
    "    multi_label = np.zeros(5)\n",
    "    multi_label[int(scores[0] - 1)] += 1\n",
    "    for index in range(1, len(scores)):\n",
    "        multi_label_temp = np.zeros(5)\n",
    "        multi_label_temp[int(scores[index] - 1)] += 1\n",
    "        multi_label = np.vstack((multi_label, multi_label_temp))\n",
    "    return multi_label"
   ]
  },
  {
   "cell_type": "markdown",
   "metadata": {},
   "source": [
    "Hàm này được dùng để chuẩn hóa các dạng label về dạng vector thích hợp cho multi label classification, ví dụ như data point có $y_i = 5$, thì sau khi qua hàm này, kết quả trả về là $y_i = [0,0,0,0,1]$. Ta làm như vậy với toàn bộ dataset trong tập train, và chồng các vector $y_i$ lên theo theo chiều axis = 0. Cuối cùng trả về ma trận $(mx5)$ với m là số lượng data point."
   ]
  },
  {
   "cell_type": "code",
   "execution_count": 82,
   "metadata": {},
   "outputs": [],
   "source": [
    "def word_count(text_vector):\n",
    "    counter = dict.fromkeys(word_set, 0)\n",
    "    sum = 0\n",
    "    for w in text_vector:\n",
    "        if w in word_set:\n",
    "            counter[w]+=1\n",
    "            sum+=1\n",
    "    histogram = []\n",
    "    for each in counter.values():\n",
    "        histogram.append(each/sum)\n",
    "    return histogram"
   ]
  },
  {
   "cell_type": "markdown",
   "metadata": {},
   "source": [
    "Hàm này đảm nhiệm việc đếm số lần xuất hiện của một từ $a_i$ trong sentence (cụ thể ở đây là một sentence đã được tokenize tạo thành một vector). Sau khi đếm xong, hàm sẽ tính tần số xuất hiện của từ đó trong câu, bằng cách $\\frac{count(a_i)}{sum(sentence)}$"
   ]
  },
  {
   "cell_type": "code",
   "execution_count": 83,
   "metadata": {},
   "outputs": [],
   "source": [
    "def word_embedding(train_data,valid_data,number):\n",
    "    text1 = []\n",
    "    for each in train_data:\n",
    "        text1.append(preprocess(each['reviewText']))\n",
    "    histogram_train = []\n",
    "    for each in text1:\n",
    "        histogram_train.append(word_count(each))\n",
    "    histogram_train = np.asarray(histogram_train)\n",
    "    histogram_train = histogram_train.reshape((len(text1),len(word_set)))\n",
    "\n",
    "    text2 = []\n",
    "    for each in valid_data:\n",
    "        temp = preprocess(each['reviewText'])\n",
    "        for index,w in enumerate(temp):\n",
    "            if w not in word_set:\n",
    "                temp[index] = 'unk'\n",
    "        text2.append(temp)\n",
    "    histogram_valid = []\n",
    "    for each in text2:\n",
    "        histogram_valid.append(word_count(each))\n",
    "    histogram_valid = np.asarray(histogram_valid)\n",
    "    histogram_valid = histogram_valid.reshape((len(text2), len(word_set)))\n",
    "    return histogram_train,histogram_valid,text2[int(number)]"
   ]
  },
  {
   "cell_type": "markdown",
   "metadata": {},
   "source": [
    "Hàm này được dùng để xây dụng các vector từ các đoạn text, nói cách khác là bỏ đoạn text vào phần hàm `preprocessing()` bên trên để xử lý, sau đó tính toán histogram bằng hàm `word_count()`. Ngoài ra hàm này có công dụng xử lý cả phần data trong bộ valid, thay thế các ký tự không nằm trong `word_set` thành `unk`, và cuối cùng là truy xuất sentence thứ $i$ sau khi đã được xử lý xong."
   ]
  },
  {
   "cell_type": "code",
   "execution_count": 84,
   "metadata": {},
   "outputs": [],
   "source": [
    "def read_file(train_set_path,valid_set_path):\n",
    "    train_file = open(train_set_path, 'r')\n",
    "    train_file = json.load(train_file)\n",
    "    train_scores = []\n",
    "    for each in train_file:\n",
    "        word_set_create(preprocess(each['reviewText']))\n",
    "        train_scores.append(int(each['overall']))\n",
    "    train_label = label_create(train_scores)\n",
    "\n",
    "    valid_file = open(valid_set_path, 'r')\n",
    "    valid_file = json.load(valid_file)\n",
    "    valid_scores = []\n",
    "    for each in valid_file:\n",
    "        valid_scores.append(int(each['overall']))\n",
    "    valid_label = np.asarray(valid_scores).reshape((len(valid_file),))\n",
    "    h_train,h_valid, sentence = word_embedding(train_file,valid_file,random_number)\n",
    "    print(sentence)\n",
    "    return h_train, train_label, h_valid, valid_label"
   ]
  },
  {
   "cell_type": "markdown",
   "metadata": {},
   "source": [
    "Việc xử lý các file, tách các dữ liệu trong dictionary ra thành các thành phần (do file json khi được đọc vào sẽ được lưu dưới dạng một dictionary). Nhìn chung ta cần phần **overall** để làm label cho phần **reviewText**."
   ]
  },
  {
   "cell_type": "code",
   "execution_count": 85,
   "metadata": {},
   "outputs": [],
   "source": [
    "def fit_weight(matrix,score):\n",
    "    x0 = np.ones((matrix.shape[0],1))\n",
    "    matrix = np.hstack((x0,matrix))\n",
    "    w = np.linalg.pinv(matrix)@score\n",
    "    return w"
   ]
  },
  {
   "cell_type": "markdown",
   "metadata": {},
   "source": [
    "Sau giai đoạn xử lý file và chuyển các vector từ về dạng số, áp dụng phương pháp bình phương tối tiểu, tìm nghiệm $w$ làm $minimize(|Aw - b|^2)$ bằng phương trình $w = A^\\dagger b$"
   ]
  },
  {
   "cell_type": "code",
   "execution_count": 86,
   "metadata": {},
   "outputs": [],
   "source": [
    "def predict(matrix,w,real_label):\n",
    "    x0 = np.ones((matrix.shape[0],1))\n",
    "    matrix = np.hstack((x0,matrix))\n",
    "    label = matrix@w\n",
    "    prob = scipy.special.softmax(label,axis = 1)\n",
    "    label = (np.argmax(prob,axis = 1) + 1)\n",
    "    error = np.count_nonzero(label - real_label)\n",
    "    return 1 - (error/matrix.shape[0])\n"
   ]
  },
  {
   "cell_type": "markdown",
   "metadata": {},
   "source": [
    "Sau cùng, sử dụng $w$ bên trên để dự đoán cho dữ liệu trong tập valid/test để trả ra label, sử dụng label thật của dữ liệu để tính toán **accuracy** cho mô hình"
   ]
  },
  {
   "cell_type": "code",
   "execution_count": 87,
   "metadata": {
    "scrolled": true
   },
   "outputs": [
    {
     "name": "stdout",
     "output_type": "stream",
     "text": [
      "['must', 'tool', 'needl', 'felt', '!', 'great', 'qualiti', 'work', 'wonder', '!', 'real', 'time', 'saver', '!']\n",
      "M2 -  0.518\n"
     ]
    }
   ],
   "source": [
    "if __name__ == '__main__':\n",
    "    h_train, train_label,h_valid, valid_label = read_file(train_set_path,valid_set_path)\n",
    "    w = fit_weight(h_train, train_label)\n",
    "    print('M2 - ',predict(h_valid,w,valid_label))\n",
    "\n",
    "    "
   ]
  },
  {
   "cell_type": "markdown",
   "metadata": {},
   "source": [
    "### Thảo luận"
   ]
  },
  {
   "attachments": {
    "Untitled.png": {
     "image/png": "[encoded data removed]"
    }
   },
   "cell_type": "markdown",
   "metadata": {},
   "source": [
    "Mô hình cho ra kết quả không được tốt lắm, việc xử lý dữ liệu tương đối ổn. Tuy nhiên sau một số công việc phân tích đơn giản, chúng ta có thể thấy sự bất cân đối trong tập train của bộ dữ liệu, điều này dẫn đến việc mô hình không được tốt.\n",
    "![Untitled.png](attachment:Untitled.png)"
   ]
  },
  {
   "cell_type": "markdown",
   "metadata": {},
   "source": [
    "### Tham khảo\n",
    "[logistic regression](https://machinelearningcoban.com/2017/01/27/logisticregression/)\n",
    "[NLTK](https://www.nltk.org/)\n",
    "[Regex](https://topdev.vn/blog/regex-la-gi/)\n",
    "[Replace Regex](https://stackoverflow.com/questions/817122/delete-digits-in-python-regex)"
   ]
  }
 ],
 "metadata": {
  "kernelspec": {
   "display_name": "Python 3",
   "language": "python",
   "name": "python3"
  },
  "language_info": {
   "codemirror_mode": {
    "name": "ipython",
    "version": 3
   },
   "file_extension": ".py",
   "mimetype": "text/x-python",
   "name": "python",
   "nbconvert_exporter": "python",
   "pygments_lexer": "ipython3",
   "version": "3.7.6"
  }
 },
 "nbformat": 4,
 "nbformat_minor": 2
}
