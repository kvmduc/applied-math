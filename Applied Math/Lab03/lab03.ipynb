{
 "cells": [
  {
   "cell_type": "markdown",
   "metadata": {},
   "source": [
    "# <center>Phân tích ma trận trong Python</center>"
   ]
  },
  {
   "cell_type": "markdown",
   "metadata": {},
   "source": [
    "## Mục lục\n",
    "* [Thực hành](#c1)\n",
    "    * [Trị riêng - Vector riêng](#c11)\n",
    "    * [Chéo hóa](#c12)\n",
    "    * [Chéo hóa trực giao](#c13)\n",
    "* [Đồ án 2: Image Processing](#c2)\n",
    "    * [Nội dung đồ án](#c21)\n",
    "    * [Quy định nộp bài](#c22)\n",
    "    * [Quy định chấm bài](#c23)"
   ]
  },
  {
   "cell_type": "markdown",
   "metadata": {},
   "source": [
    "## Thực hành <a class=\"anchor\" id=\"c1\"></a>"
   ]
  },
  {
   "cell_type": "markdown",
   "metadata": {},
   "source": [
    "Trong lab này, chúng ta sẽ tìm hiểu về phân tích ma trận sử dụng `NumPy`.\n",
    "\n",
    "Cho ma trận:\n",
    "$$A = \\begin{bmatrix}\n",
    "    3 & -2 & 0\\\\ \n",
    "    -2 & 3 & 0\\\\ \n",
    "    0 & 0 & 5\n",
    "    \\end{bmatrix}$$"
   ]
  },
  {
   "cell_type": "code",
   "execution_count": 1,
   "metadata": {},
   "outputs": [],
   "source": [
    "import numpy as np"
   ]
  },
  {
   "cell_type": "code",
   "execution_count": 2,
   "metadata": {},
   "outputs": [],
   "source": [
    "A = np.array([[3, -2, 0],\n",
    "              [-2, 3, 0],\n",
    "              [0, 0, 5]])"
   ]
  },
  {
   "cell_type": "markdown",
   "metadata": {},
   "source": [
    "Các phân tích được giới thiệu trong lab này là:\n",
    "1. Tìm trị riêng và vector riêng\n",
    "2. Chéo hóa\n",
    "3. Chéo hóa trực giao"
   ]
  },
  {
   "cell_type": "markdown",
   "metadata": {},
   "source": [
    "### Trị riêng - Vector riêng <a class=\"anchor\" id=\"c11\"></a>"
   ]
  },
  {
   "cell_type": "markdown",
   "metadata": {},
   "source": [
    "#### Thuật toán [Power iteration](https://en.wikipedia.org/wiki/Power_iteration)"
   ]
  },
  {
   "cell_type": "code",
   "execution_count": 3,
   "metadata": {},
   "outputs": [],
   "source": [
    "def eigen_power_iteration(A, n_iter=1000, eps=10e-5):\n",
    "    # Khởi tạo vector ngẫu nhiên\n",
    "    b_k = np.random.rand(A.shape[1])\n",
    "    b_k_pre = np.zeros(A.shape[1])\n",
    "\n",
    "    # Tìm vector riêng\n",
    "    for _ in range(int(n_iter)):\n",
    "        # Tính tích ma trận theo vector riêng\n",
    "        numerator = np.dot(A, b_k)\n",
    "        denominator = np.linalg.norm(numerator)\n",
    "        \n",
    "        b_k = numerator / denominator\n",
    "        \n",
    "        # Dừng khi sự thay đổi của vecto trước và vector sau không đáng kể\n",
    "        if np.all(np.abs(b_k - b_k_pre) < eps):\n",
    "            break\n",
    "        \n",
    "        b_k_pre = b_k\n",
    "        \n",
    "    # Tìm trị riêng (Rayleigh quotient iteration)\n",
    "    lamb = ((b_k @ A) @ b_k) / (b_k @ b_k)\n",
    "\n",
    "    return lamb, b_k\n",
    "\n",
    "\n",
    "def my_eigens(A, n_iter=1000, eps=10e-5):\n",
    "    eigenvalues = []\n",
    "    eigenvectors = []\n",
    "    \n",
    "    n_rows = A.shape[0]\n",
    "    \n",
    "    for _ in range(n_rows):\n",
    "        lamb, b_k = eigen_power_iteration(A, n_iter, eps)\n",
    "        \n",
    "        eigenvalues.append(lamb)\n",
    "        eigenvectors.append(b_k)\n",
    "        \n",
    "        # Hotelling’s deflation\n",
    "        b_k = b_k.reshape(n_rows, -1)\n",
    "        A = A - (lamb/np.square(np.linalg.norm(b_k))) * (b_k @ b_k.T)\n",
    "        \n",
    "    return np.array(eigenvalues), np.array(eigenvectors).T"
   ]
  },
  {
   "cell_type": "code",
   "execution_count": 4,
   "metadata": {},
   "outputs": [
    {
     "data": {
      "text/plain": [
       "(array([5.        , 5.        , 1.00000001]),\n",
       " array([[ 2.66733097e-01, -6.54868475e-01,  7.07109379e-01],\n",
       "        [-2.66705210e-01,  6.54880957e-01,  7.07104175e-01],\n",
       "        [ 9.26132704e-01,  3.77197844e-01, -1.07959958e-04]]))"
      ]
     },
     "execution_count": 4,
     "metadata": {},
     "output_type": "execute_result"
    }
   ],
   "source": [
    "my_eigens(A)"
   ]
  },
  {
   "cell_type": "markdown",
   "metadata": {},
   "source": [
    "#### Thư viện `np.linalg`"
   ]
  },
  {
   "cell_type": "code",
   "execution_count": 5,
   "metadata": {},
   "outputs": [
    {
     "data": {
      "text/plain": [
       "(array([5., 1., 5.]),\n",
       " array([[ 0.70710678,  0.70710678,  0.        ],\n",
       "        [-0.70710678,  0.70710678,  0.        ],\n",
       "        [ 0.        ,  0.        ,  1.        ]]))"
      ]
     },
     "execution_count": 5,
     "metadata": {},
     "output_type": "execute_result"
    }
   ],
   "source": [
    "np.linalg.eig(A)"
   ]
  },
  {
   "cell_type": "markdown",
   "metadata": {},
   "source": [
    "### Chéo hóa <a class=\"anchor\" id=\"c12\"></a>"
   ]
  },
  {
   "cell_type": "code",
   "execution_count": 6,
   "metadata": {},
   "outputs": [],
   "source": [
    "def my_diag(A):\n",
    "    # Tìm trị riêng, vector riêng\n",
    "    eigenvalues, eigenvectors = np.linalg.eig(A)\n",
    "    \n",
    "    # Sắp xếp giảm dần theo trị riêng\n",
    "    sorted_idx = np.argsort(eigenvalues)[::-1]\n",
    "    eigenvalues = eigenvalues[sorted_idx]\n",
    "    eigenvectors = eigenvectors[:, sorted_idx]\n",
    "    \n",
    "    P_matrix = eigenvectors\n",
    "    P_inv_matrix = np.linalg.inv(P_matrix)\n",
    "    D_matrix = np.diag(eigenvalues)\n",
    "    \n",
    "    return P_matrix, D_matrix, P_inv_matrix"
   ]
  },
  {
   "cell_type": "code",
   "execution_count": 7,
   "metadata": {},
   "outputs": [],
   "source": [
    "def is_close(A, B, eps=10e-9):\n",
    "    return np.all(np.abs(A - B) < eps)"
   ]
  },
  {
   "cell_type": "code",
   "execution_count": 8,
   "metadata": {},
   "outputs": [
    {
     "data": {
      "text/plain": [
       "(array([[ 0.        ,  0.70710678,  0.70710678],\n",
       "        [ 0.        , -0.70710678,  0.70710678],\n",
       "        [ 1.        ,  0.        ,  0.        ]]),\n",
       " array([[5., 0., 0.],\n",
       "        [0., 5., 0.],\n",
       "        [0., 0., 1.]]),\n",
       " array([[ 0.        ,  0.        ,  1.        ],\n",
       "        [ 0.70710678, -0.70710678,  0.        ],\n",
       "        [ 0.70710678,  0.70710678,  0.        ]]))"
      ]
     },
     "execution_count": 8,
     "metadata": {},
     "output_type": "execute_result"
    }
   ],
   "source": [
    "P, D, P_inv = my_diag(A)\n",
    "(P, D, P_inv)"
   ]
  },
  {
   "cell_type": "code",
   "execution_count": 9,
   "metadata": {},
   "outputs": [
    {
     "data": {
      "text/plain": [
       "True"
      ]
     },
     "execution_count": 9,
     "metadata": {},
     "output_type": "execute_result"
    }
   ],
   "source": [
    "is_close(D, P_inv @ A @ P)"
   ]
  },
  {
   "cell_type": "markdown",
   "metadata": {},
   "source": [
    "### Chéo hóa trực giao <a class=\"anchor\" id=\"c13\"></a>"
   ]
  },
  {
   "cell_type": "code",
   "execution_count": 10,
   "metadata": {},
   "outputs": [],
   "source": [
    "def my_orth_diag(A):\n",
    "    # Tìm trị riêng, vector riêng\n",
    "    eigenvalues, eigenvectors = np.linalg.eig(A)\n",
    "    \n",
    "    # Sắp xếp theo trị riêng giảm dần\n",
    "    sorted_idx = np.argsort(eigenvalues)[::-1]\n",
    "    eigenvalues = eigenvalues[sorted_idx]\n",
    "    eigenvectors = eigenvectors[:, sorted_idx]\n",
    "    \n",
    "    # Trực giao\n",
    "    P_matrix, _ = np.linalg.qr(eigenvectors)\n",
    "    \n",
    "    P_transpose = P_matrix.T\n",
    "    D_matrix = np.diag(eigenvalues)\n",
    "    \n",
    "    return P_matrix, D_matrix, P_transpose"
   ]
  },
  {
   "cell_type": "code",
   "execution_count": 11,
   "metadata": {},
   "outputs": [
    {
     "data": {
      "text/plain": [
       "(array([[ 0.        ,  0.70710678, -0.70710678],\n",
       "        [-0.        , -0.70710678, -0.70710678],\n",
       "        [-1.        ,  0.        ,  0.        ]]),\n",
       " array([[5., 0., 0.],\n",
       "        [0., 5., 0.],\n",
       "        [0., 0., 1.]]),\n",
       " array([[ 0.        , -0.        , -1.        ],\n",
       "        [ 0.70710678, -0.70710678,  0.        ],\n",
       "        [-0.70710678, -0.70710678,  0.        ]]))"
      ]
     },
     "execution_count": 11,
     "metadata": {},
     "output_type": "execute_result"
    }
   ],
   "source": [
    "(P, D, P_T) = my_orth_diag(A)\n",
    "(P, D, P_T)"
   ]
  },
  {
   "cell_type": "code",
   "execution_count": 12,
   "metadata": {},
   "outputs": [
    {
     "data": {
      "text/plain": [
       "True"
      ]
     },
     "execution_count": 12,
     "metadata": {},
     "output_type": "execute_result"
    }
   ],
   "source": [
    "is_close(D, P_T @ A @ P)"
   ]
  },
  {
   "cell_type": "markdown",
   "metadata": {},
   "source": [
    "---"
   ]
  },
  {
   "cell_type": "markdown",
   "metadata": {},
   "source": [
    "## Đồ án 2: Image Processing <a class=\"anchor\" id=\"c2\"></a>"
   ]
  },
  {
   "cell_type": "markdown",
   "metadata": {},
   "source": [
    "### Nội dung đồ án <a class=\"anchor\" id=\"c21\"></a>"
   ]
  },
  {
   "cell_type": "markdown",
   "metadata": {},
   "source": [
    "Nhắc lại: Trong đồ án 1, bạn đã được giới thiệu rằng ảnh được lưu trữ dưới dạng ma trận các điểm ảnh. Mỗi điểm ảnh có thể là một giá trị (ảnh xám) hoặc một vector (ảnh màu).\n",
    "\n",
    "Trong đồ án này, bạn được yêu cầu thực hiện các chức năng xử lý ảnh cơ bản sau:\n",
    "    \n",
    "    1. Thay đổi độ sáng cho ảnh (1 điểm)\n",
    "\n",
    "![img](https://scontent-hkg4-1.xx.fbcdn.net/v/t1.0-9/109581859_2795629400670258_8018526615084170772_o.jpg?_nc_cat=111&_nc_sid=730e14&_nc_ohc=YljndAVFjOEAX_Otr2o&_nc_oc=AQndVCKq_5wiDxKwI-pvFBP1fP7vU-woCMjlVqQ7X4SLL75ngMu8ZxjuRShCB62k-tg&_nc_ht=scontent-hkg4-1.xx&oh=afe3a3f31c596c2f77f0b2ce6386e6c3&oe=5F3D6E7A)\n",
    "\n",
    "    2. Thay đổi độ tương phản (1 điểm)\n",
    "\n",
    "![img](https://scontent-hkg4-1.xx.fbcdn.net/v/t1.0-9/109905028_2795629407336924_8002404333267704951_o.jpg?_nc_cat=104&_nc_sid=730e14&_nc_ohc=SSbeWLNQFcoAX__xGI_&_nc_ht=scontent-hkg4-1.xx&oh=0cc80b4b7cf3ff4d95ab9fbbb06a1d6d&oe=5F3D5B3B)\n",
    "\n",
    "    3. Chuyển đổi ảnh RGB thành ảnh xám (2 điểm)\n",
    "\n",
    "![img](https://scontent-hkg4-1.xx.fbcdn.net/v/t1.0-9/109498666_2795629330670265_2391573143560079748_o.jpg?_nc_cat=102&_nc_sid=730e14&_nc_ohc=y091dMm8hc8AX9Eu-rV&_nc_ht=scontent-hkg4-1.xx&oh=0ff087b3a07c502f52f96c205669c958&oe=5F406E73)\n",
    "\n",
    "Tham khảo tại [đây](https://www.tutorialspoint.com/dip/grayscale_to_rgb_conversion.htm)\n",
    "\n",
    "    4. Lật ảnh (ngang - dọc) (2 điểm)\n",
    "\n",
    "![img](https://scontent-hkg4-1.xx.fbcdn.net/v/t1.0-9/112813285_2795629397336925_473147713696095361_o.jpg?_nc_cat=110&_nc_sid=730e14&_nc_ohc=Ue3Oef45RAEAX-upxns&_nc_ht=scontent-hkg4-1.xx&oh=329cd7a1db2a8e4c1819df905d0c377f&oe=5F404C02)\n",
    "\n",
    "    5. Chồng 2 ảnh cùng kích thước (2 điểm): chỉ làm trên ảnh xám\n",
    "\n",
    "![img](https://scontent-hkg4-1.xx.fbcdn.net/v/t1.0-9/109898178_2795629227336942_4696040469968534857_o.jpg?_nc_cat=106&_nc_sid=730e14&_nc_ohc=nRmmvwJpHwUAX-F8WDg&_nc_ht=scontent-hkg4-1.xx&oh=2133a1fc084f04e623db4ccc7846219c&oe=5F3FB073)\n",
    "\n",
    "    6. Làm mờ ảnh (2 điểm)\n",
    "\n",
    "![img](https://scontent-hkg4-1.xx.fbcdn.net/v/t1.0-9/109576110_2795629354003596_4489329086960038108_o.jpg?_nc_cat=102&_nc_sid=730e14&_nc_ohc=7rd17GpfFvgAX_0JtIZ&_nc_ht=scontent-hkg4-1.xx&oh=663de4dcf1705bd5df433b6d01971d43&oe=5F400D25)\n",
    "\n",
    "Tham khảo tại [đây](https://en.wikipedia.org/wiki/Kernel_(image_processing)), phần Box blur hoặc Gaussian blur 3 $\\times$ 3"
   ]
  },
  {
   "cell_type": "markdown",
   "metadata": {},
   "source": [
    "Trong đồ án này, bạn <font style=\"color:red\">**CHỈ ĐƯỢC PHÉP**</font> sử dụng các thư viện sau: `PIL`, `numpy`, `matplotlib`"
   ]
  },
  {
   "cell_type": "markdown",
   "metadata": {},
   "source": [
    "### Quy định bài nộp <a class=\"anchor\" id=\"c22\"></a>"
   ]
  },
  {
   "cell_type": "markdown",
   "metadata": {},
   "source": [
    "* Thực hiện toàn bộ bài làm trên 1 tập tin Jupyter Notebook (.ipynb) hoặc Python (.py)\n",
    "\n",
    "\n",
    "* Bạn nộp tập tin `MSSV.zip` được nén từ thư mục MSSV chứa các tập tin sau:\n",
    "    1. Báo cáo toàn bộ bài làm: `MSSV.pdf`\n",
    "    2. Mã nguồn: `MSSV.ipynb` hoặc `MSSV.py`\n",
    "\n",
    "\n",
    "* Trong đó, nội dung tập tin báo cáo gồm có:\n",
    "    - Thông tin cá nhân: họ và tên, MSSV\n",
    "    - Liệt kê các chức năng đã hoàn thành\n",
    "    - Ý tưởng thực hiện, mô tả các hàm chức năng\n",
    "    - Hình ảnh kết quả với từng chức năng\n",
    "    \n",
    "    \n",
    "* Ví dụ minh họa cây thư mục bài nộp sau khi giải nén tập tin `MSSV.zip` như sau:\n",
    "```\n",
    "MSSV\n",
    "├── MSSV.pdf\n",
    "└── MSSV.ipynb\n",
    "```"
   ]
  },
  {
   "cell_type": "markdown",
   "metadata": {},
   "source": [
    "### Quy định chấm bài <a class=\"anchor\" id=\"c23\"></a>"
   ]
  },
  {
   "cell_type": "markdown",
   "metadata": {},
   "source": [
    "Những trường hợp sau đây sẽ bị 0 điểm toàn bộ đồ án:\n",
    "* Nộp sai quy định\n",
    "* Không có báo cáo\n",
    "* Thực thi mã nguồn báo lỗi\n",
    "\n",
    "<font style=\"color:red\">**LƯU Ý: SAO CHÉP BÀI LÀM CỦA NHAU SẼ BỊ 0 ĐIỂM TOÀN BỘ PHẦN THỰC HÀNH**</font>"
   ]
  }
 ],
 "metadata": {
  "kernelspec": {
   "display_name": "Python 3",
   "language": "python",
   "name": "python3"
  },
  "language_info": {
   "codemirror_mode": {
    "name": "ipython",
    "version": 3
   },
   "file_extension": ".py",
   "mimetype": "text/x-python",
   "name": "python",
   "nbconvert_exporter": "python",
   "pygments_lexer": "ipython3",
   "version": "3.8.3"
  },
  "toc-autonumbering": false
 },
 "nbformat": 4,
 "nbformat_minor": 4
}
